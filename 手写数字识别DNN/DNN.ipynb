{
 "cells": [
  {
   "cell_type": "code",
   "execution_count": 20,
   "metadata": {},
   "outputs": [
    {
     "name": "stdout",
     "output_type": "stream",
     "text": [
      "training data\n",
      "<class 'list'>\n",
      "50000\n",
      "(784, 1)\n",
      "(10, 1)\n",
      "validation data\n",
      "10000\n",
      "test data\n",
      "10000\n"
     ]
    }
   ],
   "source": [
    "# 简单的手写数字识别\n",
    "# 导入数据和网络\n",
    "import mnist_loader\n",
    "import network\n",
    "\n",
    "training_data, validation_data, test_data = mnist_loader.load_data_wrapper()\n",
    "training_data = list(training_data)\n",
    "validation_data = list(validation_data)\n",
    "test_data = list(test_data)\n",
    "\n",
    "print(\"training data\")\n",
    "print(type(training_data))\n",
    "print(len(training_data))\n",
    "print(training_data[0][0].shape)\n",
    "print(training_data[0][1].shape)\n",
    "print(\"validation data\")\n",
    "print(len(validation_data))\n",
    "print(\"test data\")\n",
    "print(len(test_data))"
   ]
  },
  {
   "cell_type": "code",
   "execution_count": 21,
   "metadata": {},
   "outputs": [
    {
     "name": "stdout",
     "output_type": "stream",
     "text": [
      "Epoch 0 : 9043 / 10000\n",
      "Epoch 1 : 9204 / 10000\n",
      "Epoch 2 : 9290 / 10000\n",
      "Epoch 3 : 9302 / 10000\n",
      "Epoch 4 : 9332 / 10000\n",
      "Epoch 5 : 9368 / 10000\n",
      "Epoch 6 : 9372 / 10000\n",
      "Epoch 7 : 9409 / 10000\n",
      "Epoch 8 : 9402 / 10000\n",
      "Epoch 9 : 9396 / 10000\n",
      "Epoch 10 : 9402 / 10000\n",
      "Epoch 11 : 9407 / 10000\n",
      "Epoch 12 : 9434 / 10000\n",
      "Epoch 13 : 9421 / 10000\n",
      "Epoch 14 : 9443 / 10000\n",
      "Epoch 15 : 9425 / 10000\n",
      "Epoch 16 : 9433 / 10000\n",
      "Epoch 17 : 9456 / 10000\n",
      "Epoch 18 : 9457 / 10000\n",
      "Epoch 19 : 9438 / 10000\n",
      "Epoch 20 : 9425 / 10000\n",
      "Epoch 21 : 9458 / 10000\n",
      "Epoch 22 : 9445 / 10000\n",
      "Epoch 23 : 9464 / 10000\n",
      "Epoch 24 : 9450 / 10000\n",
      "Epoch 25 : 9465 / 10000\n",
      "Epoch 26 : 9456 / 10000\n",
      "Epoch 27 : 9461 / 10000\n",
      "Epoch 28 : 9463 / 10000\n",
      "Epoch 29 : 9450 / 10000\n"
     ]
    }
   ],
   "source": [
    "# 神经网络测试\n",
    "net = network.Network([784, 30, 10])\n",
    "net.SGD(training_data, 30, 10, 3.0, test_data=test_data)\n",
    "\n",
    "# net = network.Network([784, 100, 10])\n",
    "# net.SGD(training_data, 30, 10, 3.0, test_data=test_data)\n",
    "\n",
    "# net = network.Network([784, 100, 10])\n",
    "# net.SGD(training_data, 30, 10, 0.001, test_data=test_data)\n",
    "\n",
    "# net = network.Network([784, 30, 10])\n",
    "# net.SGD(training_data, 30, 10, 100.0, test_data=test_data)"
   ]
  },
  {
   "cell_type": "code",
   "execution_count": null,
   "metadata": {},
   "outputs": [],
   "source": []
  }
 ],
 "metadata": {
  "kernelspec": {
   "display_name": "Python 3",
   "language": "python",
   "name": "python3"
  },
  "language_info": {
   "codemirror_mode": {
    "name": "ipython",
    "version": 3
   },
   "file_extension": ".py",
   "mimetype": "text/x-python",
   "name": "python",
   "nbconvert_exporter": "python",
   "pygments_lexer": "ipython3",
   "version": "3.6.8"
  }
 },
 "nbformat": 4,
 "nbformat_minor": 2
}
