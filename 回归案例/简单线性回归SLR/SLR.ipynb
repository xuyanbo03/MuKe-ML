{
 "cells": [
  {
   "cell_type": "code",
   "execution_count": 1,
   "metadata": {},
   "outputs": [
    {
     "name": "stdout",
     "output_type": "stream",
     "text": [
      "intercept: 10.0  slope: 5.0\n",
      "y_test: 40.0\n"
     ]
    }
   ],
   "source": [
    "# 简单线性回归模型举例\n",
    "# 汽车卖家做电视广告数量与卖出的汽车数量\n",
    "\n",
    "import numpy as np\n",
    "\n",
    "def fitSLR(x, y):\n",
    "    n = len(x)\n",
    "    dinominator = 0\n",
    "    numerator = 0\n",
    "    for i in range(0, n):\n",
    "        numerator += (x[i] - np.mean(x))*(y[i] - np.mean(y))\n",
    "        dinominator += (x[i] - np.mean(x))**2\n",
    "    b1 = numerator/float(dinominator)\n",
    "    b0 = np.mean(y)/float(np.mean(x))\n",
    "    return b0, b1\n",
    "\n",
    "def predict(x, b0, b1):\n",
    "    return b0 + x*b1\n",
    "\n",
    "x = [1, 3, 2, 1, 3]\n",
    "y = [14, 24, 18, 17, 27]\n",
    "\n",
    "b0, b1 = fitSLR(x, y)\n",
    "\n",
    "print(\"intercept:\", b0, \" slope:\", b1)\n",
    "\n",
    "x_test = 6\n",
    "\n",
    "y_test = predict(6, b0, b1)\n",
    "\n",
    "print(\"y_test:\", y_test)"
   ]
  },
  {
   "cell_type": "code",
   "execution_count": null,
   "metadata": {},
   "outputs": [],
   "source": []
  }
 ],
 "metadata": {
  "kernelspec": {
   "display_name": "Python 3",
   "language": "python",
   "name": "python3"
  },
  "language_info": {
   "codemirror_mode": {
    "name": "ipython",
    "version": 3
   },
   "file_extension": ".py",
   "mimetype": "text/x-python",
   "name": "python",
   "nbconvert_exporter": "python",
   "pygments_lexer": "ipython3",
   "version": "3.7.3"
  }
 },
 "nbformat": 4,
 "nbformat_minor": 2
}
