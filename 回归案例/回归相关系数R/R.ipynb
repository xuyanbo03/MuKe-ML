{
 "cells": [
  {
   "cell_type": "code",
   "execution_count": 5,
   "metadata": {},
   "outputs": [
    {
     "name": "stdout",
     "output_type": "stream",
     "text": [
      "r: 0.94031007654487\n",
      "r^2: 0.8841830400518192\n",
      "ssreg: 333.1601694915256\n",
      "sstot: 376.8\n",
      "results: {'polynomial': [2.65677966101695, 5.322033898305076], 'determination': 0.8841830400518196}\n",
      "0.8841830400518196\n"
     ]
    }
   ],
   "source": [
    "# 计算相关系数和决定系数\n",
    "\n",
    "import numpy as np\n",
    "#from astropy.units import Ybarn\n",
    "import math\n",
    "\n",
    "# 计算r\n",
    "def computeCorrelation(X, Y):\n",
    "    xBar = np.mean(X)\n",
    "    yBar = np.mean(Y)\n",
    "    SSR = 0\n",
    "    varX = 0\n",
    "    varY = 0\n",
    "    for i in range(0 , len(X)):\n",
    "        diffXXBar = X[i] - xBar\n",
    "        diffYYBar = Y[i] - yBar\n",
    "        SSR += (diffXXBar * diffYYBar)\n",
    "        varX +=  diffXXBar**2\n",
    "        varY += diffYYBar**2\n",
    "    \n",
    "    SST = math.sqrt(varX * varY)\n",
    "    return SSR / SST\n",
    "\n",
    "# 计算R^2\n",
    "def polyfit(x,y,degree):\n",
    "    results = {}\n",
    "    # 计算参数\n",
    "    coeffs = np.polyfit(x,y,degree)\n",
    "    results['polynomial'] = coeffs.tolist()\n",
    "    # 求r方\n",
    "    p = np.poly1d(coeffs)\n",
    "    \n",
    "    yhat = p(x)\n",
    "    ybar = np.sum(y)/len(y)\n",
    "    ssreg = np.sum((yhat - ybar)**2)\n",
    "    print(\"ssreg:\",str(ssreg))\n",
    "    sstot = np.sum((y - ybar)**2)\n",
    "    print(\"sstot:\",str(sstot))\n",
    "    results['determination'] = ssreg / sstot\n",
    "    print(\"results:\",results)\n",
    "    return results\n",
    "\n",
    "testX = [1, 3, 8, 7, 9]\n",
    "testY = [10, 12, 24, 21, 34]\n",
    "\n",
    "print(\"r:\",computeCorrelation(testX, testY))\n",
    "print(\"r^2:\",str(computeCorrelation(testX,testY)**2))\n",
    "\n",
    "print(polyfit(testX,testY,1)[\"determination\"])"
   ]
  },
  {
   "cell_type": "code",
   "execution_count": null,
   "metadata": {},
   "outputs": [],
   "source": []
  }
 ],
 "metadata": {
  "kernelspec": {
   "display_name": "Python 3",
   "language": "python",
   "name": "python3"
  },
  "language_info": {
   "codemirror_mode": {
    "name": "ipython",
    "version": 3
   },
   "file_extension": ".py",
   "mimetype": "text/x-python",
   "name": "python",
   "nbconvert_exporter": "python",
   "pygments_lexer": "ipython3",
   "version": "3.7.3"
  }
 },
 "nbformat": 4,
 "nbformat_minor": 2
}
